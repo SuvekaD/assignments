{
 "cells": [
  {
   "cell_type": "code",
   "execution_count": 1,
   "id": "d93c954e",
   "metadata": {},
   "outputs": [
    {
     "name": "stdout",
     "output_type": "stream",
     "text": [
      "Sum of the numbers is: 90\n"
     ]
    }
   ],
   "source": [
    "def add_numbers(n1,n2):\n",
    "   return n1 + n2\n",
    "print(\"Sum of the numbers is:\",add_numbers(23,67))"
   ]
  },
  {
   "cell_type": "code",
   "execution_count": 2,
   "id": "542a083a",
   "metadata": {},
   "outputs": [
    {
     "data": {
      "text/plain": [
       "190"
      ]
     },
     "execution_count": 2,
     "metadata": {},
     "output_type": "execute_result"
    }
   ],
   "source": [
    "def multiply_numbers(m1,m2):\n",
    "    return m1 * m2\n",
    "multiply_numbers(10,19)"
   ]
  },
  {
   "cell_type": "code",
   "execution_count": 9,
   "id": "3bc3eb69",
   "metadata": {},
   "outputs": [
    {
     "name": "stdout",
     "output_type": "stream",
     "text": [
      "5.0\n",
      "Error: Division by zero is not allowed.\n"
     ]
    }
   ],
   "source": [
    "def divide_numbers(d1,d2):\n",
    "    if d2 == 0:\n",
    "        print(\"Error: Division by zero is not allowed.\")\n",
    "        return None\n",
    "    else:\n",
    "        return d1 / d2\n",
    "result = divide_numbers(10, 2)\n",
    "print(result) \n",
    "\n",
    "div = divide_numbers(8, 0)"
   ]
  },
  {
   "cell_type": "code",
   "execution_count": 12,
   "id": "0b54c029",
   "metadata": {},
   "outputs": [
    {
     "name": "stdout",
     "output_type": "stream",
     "text": [
      "Average of the list is: 7.6\n"
     ]
    }
   ],
   "source": [
    "def calculate_average(l1):\n",
    "    total = sum(l1)\n",
    "    average = total / len(l1)\n",
    "    return average\n",
    "\n",
    "list_1= [5, 8, 12, 4, 9]\n",
    "result = calculate_average(list_1)\n",
    "print(\"Average of the list is:\",result) "
   ]
  },
  {
   "cell_type": "code",
   "execution_count": 14,
   "id": "9c59ee33",
   "metadata": {},
   "outputs": [
    {
     "name": "stdout",
     "output_type": "stream",
     "text": [
      "True\n",
      "False\n"
     ]
    }
   ],
   "source": [
    "def is_prime(p):\n",
    "    if p < 2:\n",
    "        return False\n",
    "    for i in range(2, int(p**0.5) + 1):\n",
    "        if p % i == 0:\n",
    "            return False\n",
    "    return True\n",
    "result_prime = is_prime(17)\n",
    "print(result_prime)\n",
    "result_not_prime = is_prime(15)\n",
    "print(result_not_prime)"
   ]
  },
  {
   "cell_type": "code",
   "execution_count": 18,
   "id": "b4362088",
   "metadata": {},
   "outputs": [
    {
     "name": "stdout",
     "output_type": "stream",
     "text": [
      "Total Balance: rs.56500\n",
      "Account 'Account2' removed.\n",
      "Total Balance after removal: rs.29500\n"
     ]
    }
   ],
   "source": [
    "class Bank:\n",
    "    def __init__(self, name):\n",
    "        self.name = name\n",
    "        self.accounts = []\n",
    "\n",
    "    def add_account(self, account):\n",
    "        self.accounts.append(account)\n",
    "\n",
    "    def remove_account(self, account_name):\n",
    "        for account in self.accounts:\n",
    "            if account['name'] == account_name:\n",
    "                self.accounts.remove(account)\n",
    "                print(f\"Account '{account_name}' removed.\")\n",
    "                return\n",
    "        print(f\"Account '{account_name}' not found.\")\n",
    "\n",
    "    def get_total_balance(self):\n",
    "        total_balance = sum(account['balance'] for account in self.accounts)\n",
    "        return total_balance\n",
    "\n",
    "bank = Bank(name=\"MyBank\")\n",
    "\n",
    "bank.add_account({'name': 'Account1', 'balance': 10000})\n",
    "bank.add_account({'name': 'Account2', 'balance': 27000})\n",
    "bank.add_account({'name': 'Account3', 'balance': 19500})\n",
    "\n",
    "total_balance = bank.get_total_balance()\n",
    "print(f\"Total Balance: rs.{total_balance}\")\n",
    "\n",
    "bank.remove_account('Account2')\n",
    "\n",
    "total_balance_after_removal = bank.get_total_balance()\n",
    "print(f\"Total Balance after removal: rs.{total_balance_after_removal}\")"
   ]
  },
  {
   "cell_type": "code",
   "execution_count": null,
   "id": "f89d3cc6",
   "metadata": {},
   "outputs": [],
   "source": []
  }
 ],
 "metadata": {
  "kernelspec": {
   "display_name": "Python 3 (ipykernel)",
   "language": "python",
   "name": "python3"
  },
  "language_info": {
   "codemirror_mode": {
    "name": "ipython",
    "version": 3
   },
   "file_extension": ".py",
   "mimetype": "text/x-python",
   "name": "python",
   "nbconvert_exporter": "python",
   "pygments_lexer": "ipython3",
   "version": "3.11.4"
  }
 },
 "nbformat": 4,
 "nbformat_minor": 5
}
